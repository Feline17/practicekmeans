{
 "cells": [
  {
   "cell_type": "code",
   "execution_count": 24,
   "metadata": {},
   "outputs": [],
   "source": [
    "# imports in one place, research if it can lead to errors\n",
    "import numpy as np\n",
    "import pandas as pd\n",
    "import matplotlib.pyplot as plt\n",
    "from sklearn.cluster import KMeans"
   ]
  },
  {
   "cell_type": "code",
   "execution_count": 2,
   "metadata": {},
   "outputs": [
    {
     "name": "stdout",
     "output_type": "stream",
     "text": [
      "                country  femaleemployrate  employrate\n",
      "0           Afghanistan         25.600000   55.700001\n",
      "1               Albania         42.099998   51.400002\n",
      "2               Algeria         31.700001   50.500000\n",
      "3                Angola         69.400002   75.699997\n",
      "4             Argentina         45.900002   58.400002\n",
      "..                  ...               ...         ...\n",
      "173             Vietnam         67.599998   71.000000\n",
      "174  West Bank and Gaza         11.300000   32.000000\n",
      "175         Yemen, Rep.         20.299999   39.000000\n",
      "176              Zambia         53.500000   61.000000\n",
      "177            Zimbabwe         58.099998   66.800003\n",
      "\n",
      "[178 rows x 3 columns]\n"
     ]
    }
   ],
   "source": [
    "# import and print data from csv file\n",
    "data = pd.read_csv(\"remo.csv\")\n",
    "print(data)"
   ]
  },
  {
   "cell_type": "code",
   "execution_count": 3,
   "metadata": {},
   "outputs": [
    {
     "data": {
      "text/plain": [
       "83.19999695"
      ]
     },
     "execution_count": 3,
     "metadata": {},
     "output_type": "execute_result"
    }
   ],
   "source": [
    "# variable names for easier analysis\n",
    "fem = data[\"femaleemployrate\"]\n",
    "emp = data[\"employrate\"]\n",
    "\n",
    "# max employment to check because in other column with missing data max gave a wrong value\n",
    "emp.max()"
   ]
  },
  {
   "cell_type": "code",
   "execution_count": 4,
   "metadata": {},
   "outputs": [
    {
     "data": {
      "text/plain": [
       "<matplotlib.collections.PathCollection at 0x7f1226c7cb38>"
      ]
     },
     "execution_count": 4,
     "metadata": {},
     "output_type": "execute_result"
    },
    {
     "data": {
      "image/png": "[encoded data removed]",
      "text/plain": [
       "<Figure size 432x288 with 1 Axes>"
      ]
     },
     "metadata": {
      "needs_background": "light"
     },
     "output_type": "display_data"
    }
   ],
   "source": [
    "# x-axis and y-axis labels\n",
    "plt.xlabel(\"emp\")\n",
    "plt.ylabel(\"fem\")\n",
    "\n",
    "# plot a scatter graph\n",
    "plt.scatter(emp, fem)"
   ]
  },
  {
   "cell_type": "code",
   "execution_count": 5,
   "metadata": {},
   "outputs": [],
   "source": [
    "# One or more labelled 'data points of interest' \n",
    "    # India, Pakistan, Bangladesh, UAE, Sri Lanka, S Korea, China, Japan\n",
    "# An explanation of the following:\n",
    "# why you chose to plot those particular columns in the data\n",
    "    # because I had a sense they would correlate but just to be sure\n",
    "# how you sorted or filtered the data\n",
    "    # sort by country name \n",
    "    # filtered by highest female employment rates and lowest employment rates\n",
    "# what makes the labelled points interesting.\n",
    "    # "
   ]
  },
  {
   "cell_type": "code",
   "execution_count": 6,
   "metadata": {},
   "outputs": [
    {
     "data": {
      "text/html": [
       "<div>\n",
       "<style scoped>\n",
       "    .dataframe tbody tr th:only-of-type {\n",
       "        vertical-align: middle;\n",
       "    }\n",
       "\n",
       "    .dataframe tbody tr th {\n",
       "        vertical-align: top;\n",
       "    }\n",
       "\n",
       "    .dataframe thead th {\n",
       "        text-align: right;\n",
       "    }\n",
       "</style>\n",
       "<table border=\"1\" class=\"dataframe\">\n",
       "  <thead>\n",
       "    <tr style=\"text-align: right;\">\n",
       "      <th></th>\n",
       "      <th>country</th>\n",
       "      <th>femaleemployrate</th>\n",
       "      <th>employrate</th>\n",
       "    </tr>\n",
       "  </thead>\n",
       "  <tbody>\n",
       "    <tr>\n",
       "      <th>0</th>\n",
       "      <td>Afghanistan</td>\n",
       "      <td>25.600000</td>\n",
       "      <td>55.700001</td>\n",
       "    </tr>\n",
       "    <tr>\n",
       "      <th>1</th>\n",
       "      <td>Albania</td>\n",
       "      <td>42.099998</td>\n",
       "      <td>51.400002</td>\n",
       "    </tr>\n",
       "    <tr>\n",
       "      <th>2</th>\n",
       "      <td>Algeria</td>\n",
       "      <td>31.700001</td>\n",
       "      <td>50.500000</td>\n",
       "    </tr>\n",
       "    <tr>\n",
       "      <th>3</th>\n",
       "      <td>Angola</td>\n",
       "      <td>69.400002</td>\n",
       "      <td>75.699997</td>\n",
       "    </tr>\n",
       "    <tr>\n",
       "      <th>4</th>\n",
       "      <td>Argentina</td>\n",
       "      <td>45.900002</td>\n",
       "      <td>58.400002</td>\n",
       "    </tr>\n",
       "    <tr>\n",
       "      <th>...</th>\n",
       "      <td>...</td>\n",
       "      <td>...</td>\n",
       "      <td>...</td>\n",
       "    </tr>\n",
       "    <tr>\n",
       "      <th>173</th>\n",
       "      <td>Vietnam</td>\n",
       "      <td>67.599998</td>\n",
       "      <td>71.000000</td>\n",
       "    </tr>\n",
       "    <tr>\n",
       "      <th>174</th>\n",
       "      <td>West Bank and Gaza</td>\n",
       "      <td>11.300000</td>\n",
       "      <td>32.000000</td>\n",
       "    </tr>\n",
       "    <tr>\n",
       "      <th>175</th>\n",
       "      <td>Yemen, Rep.</td>\n",
       "      <td>20.299999</td>\n",
       "      <td>39.000000</td>\n",
       "    </tr>\n",
       "    <tr>\n",
       "      <th>176</th>\n",
       "      <td>Zambia</td>\n",
       "      <td>53.500000</td>\n",
       "      <td>61.000000</td>\n",
       "    </tr>\n",
       "    <tr>\n",
       "      <th>177</th>\n",
       "      <td>Zimbabwe</td>\n",
       "      <td>58.099998</td>\n",
       "      <td>66.800003</td>\n",
       "    </tr>\n",
       "  </tbody>\n",
       "</table>\n",
       "<p>178 rows × 3 columns</p>\n",
       "</div>"
      ],
      "text/plain": [
       "                country  femaleemployrate  employrate\n",
       "0           Afghanistan         25.600000   55.700001\n",
       "1               Albania         42.099998   51.400002\n",
       "2               Algeria         31.700001   50.500000\n",
       "3                Angola         69.400002   75.699997\n",
       "4             Argentina         45.900002   58.400002\n",
       "..                  ...               ...         ...\n",
       "173             Vietnam         67.599998   71.000000\n",
       "174  West Bank and Gaza         11.300000   32.000000\n",
       "175         Yemen, Rep.         20.299999   39.000000\n",
       "176              Zambia         53.500000   61.000000\n",
       "177            Zimbabwe         58.099998   66.800003\n",
       "\n",
       "[178 rows x 3 columns]"
      ]
     },
     "execution_count": 6,
     "metadata": {},
     "output_type": "execute_result"
    }
   ],
   "source": [
    "#sort by country name\n",
    "data.sort_values(\"country\") "
   ]
  },
  {
   "cell_type": "code",
   "execution_count": 7,
   "metadata": {},
   "outputs": [
    {
     "data": {
      "text/html": [
       "<div>\n",
       "<style scoped>\n",
       "    .dataframe tbody tr th:only-of-type {\n",
       "        vertical-align: middle;\n",
       "    }\n",
       "\n",
       "    .dataframe tbody tr th {\n",
       "        vertical-align: top;\n",
       "    }\n",
       "\n",
       "    .dataframe thead th {\n",
       "        text-align: right;\n",
       "    }\n",
       "</style>\n",
       "<table border=\"1\" class=\"dataframe\">\n",
       "  <thead>\n",
       "    <tr style=\"text-align: right;\">\n",
       "      <th></th>\n",
       "      <th>country</th>\n",
       "      <th>femaleemployrate</th>\n",
       "      <th>employrate</th>\n",
       "    </tr>\n",
       "  </thead>\n",
       "  <tbody>\n",
       "    <tr>\n",
       "      <th>174</th>\n",
       "      <td>West Bank and Gaza</td>\n",
       "      <td>11.300000</td>\n",
       "      <td>32.000000</td>\n",
       "    </tr>\n",
       "    <tr>\n",
       "      <th>75</th>\n",
       "      <td>Iraq</td>\n",
       "      <td>12.400000</td>\n",
       "      <td>37.400002</td>\n",
       "    </tr>\n",
       "    <tr>\n",
       "      <th>81</th>\n",
       "      <td>Jordan</td>\n",
       "      <td>13.000000</td>\n",
       "      <td>38.900002</td>\n",
       "    </tr>\n",
       "    <tr>\n",
       "      <th>154</th>\n",
       "      <td>Syria</td>\n",
       "      <td>16.700001</td>\n",
       "      <td>44.799999</td>\n",
       "    </tr>\n",
       "    <tr>\n",
       "      <th>137</th>\n",
       "      <td>Saudi Arabia</td>\n",
       "      <td>17.700001</td>\n",
       "      <td>51.200001</td>\n",
       "    </tr>\n",
       "    <tr>\n",
       "      <th>...</th>\n",
       "      <td>...</td>\n",
       "      <td>...</td>\n",
       "      <td>...</td>\n",
       "    </tr>\n",
       "    <tr>\n",
       "      <th>98</th>\n",
       "      <td>Madagascar</td>\n",
       "      <td>79.199997</td>\n",
       "      <td>83.000000</td>\n",
       "    </tr>\n",
       "    <tr>\n",
       "      <th>165</th>\n",
       "      <td>Uganda</td>\n",
       "      <td>80.000000</td>\n",
       "      <td>83.199997</td>\n",
       "    </tr>\n",
       "    <tr>\n",
       "      <th>136</th>\n",
       "      <td>Rwanda</td>\n",
       "      <td>80.500000</td>\n",
       "      <td>79.800003</td>\n",
       "    </tr>\n",
       "    <tr>\n",
       "      <th>111</th>\n",
       "      <td>Mozambique</td>\n",
       "      <td>82.199997</td>\n",
       "      <td>77.000000</td>\n",
       "    </tr>\n",
       "    <tr>\n",
       "      <th>25</th>\n",
       "      <td>Burundi</td>\n",
       "      <td>83.300003</td>\n",
       "      <td>83.199997</td>\n",
       "    </tr>\n",
       "  </tbody>\n",
       "</table>\n",
       "<p>178 rows × 3 columns</p>\n",
       "</div>"
      ],
      "text/plain": [
       "                country  femaleemployrate  employrate\n",
       "174  West Bank and Gaza         11.300000   32.000000\n",
       "75                 Iraq         12.400000   37.400002\n",
       "81               Jordan         13.000000   38.900002\n",
       "154               Syria         16.700001   44.799999\n",
       "137        Saudi Arabia         17.700001   51.200001\n",
       "..                  ...               ...         ...\n",
       "98           Madagascar         79.199997   83.000000\n",
       "165              Uganda         80.000000   83.199997\n",
       "136              Rwanda         80.500000   79.800003\n",
       "111          Mozambique         82.199997   77.000000\n",
       "25              Burundi         83.300003   83.199997\n",
       "\n",
       "[178 rows x 3 columns]"
      ]
     },
     "execution_count": 7,
     "metadata": {},
     "output_type": "execute_result"
    }
   ],
   "source": [
    "#lowest and highest female employment rates\n",
    "data.sort_values(\"femaleemployrate\") "
   ]
  },
  {
   "cell_type": "code",
   "execution_count": 8,
   "metadata": {},
   "outputs": [
    {
     "data": {
      "text/html": [
       "<div>\n",
       "<style scoped>\n",
       "    .dataframe tbody tr th:only-of-type {\n",
       "        vertical-align: middle;\n",
       "    }\n",
       "\n",
       "    .dataframe tbody tr th {\n",
       "        vertical-align: top;\n",
       "    }\n",
       "\n",
       "    .dataframe thead th {\n",
       "        text-align: right;\n",
       "    }\n",
       "</style>\n",
       "<table border=\"1\" class=\"dataframe\">\n",
       "  <thead>\n",
       "    <tr style=\"text-align: right;\">\n",
       "      <th></th>\n",
       "      <th>country</th>\n",
       "      <th>femaleemployrate</th>\n",
       "      <th>employrate</th>\n",
       "    </tr>\n",
       "  </thead>\n",
       "  <tbody>\n",
       "    <tr>\n",
       "      <th>174</th>\n",
       "      <td>West Bank and Gaza</td>\n",
       "      <td>11.300000</td>\n",
       "      <td>32.000000</td>\n",
       "    </tr>\n",
       "    <tr>\n",
       "      <th>97</th>\n",
       "      <td>Macedonia, FYR</td>\n",
       "      <td>26.799999</td>\n",
       "      <td>34.900002</td>\n",
       "    </tr>\n",
       "    <tr>\n",
       "      <th>75</th>\n",
       "      <td>Iraq</td>\n",
       "      <td>12.400000</td>\n",
       "      <td>37.400002</td>\n",
       "    </tr>\n",
       "    <tr>\n",
       "      <th>81</th>\n",
       "      <td>Jordan</td>\n",
       "      <td>13.000000</td>\n",
       "      <td>38.900002</td>\n",
       "    </tr>\n",
       "    <tr>\n",
       "      <th>175</th>\n",
       "      <td>Yemen, Rep.</td>\n",
       "      <td>20.299999</td>\n",
       "      <td>39.000000</td>\n",
       "    </tr>\n",
       "    <tr>\n",
       "      <th>...</th>\n",
       "      <td>...</td>\n",
       "      <td>...</td>\n",
       "      <td>...</td>\n",
       "    </tr>\n",
       "    <tr>\n",
       "      <th>24</th>\n",
       "      <td>Burkina Faso</td>\n",
       "      <td>75.800003</td>\n",
       "      <td>81.300003</td>\n",
       "    </tr>\n",
       "    <tr>\n",
       "      <th>64</th>\n",
       "      <td>Guinea</td>\n",
       "      <td>77.599998</td>\n",
       "      <td>81.500000</td>\n",
       "    </tr>\n",
       "    <tr>\n",
       "      <th>98</th>\n",
       "      <td>Madagascar</td>\n",
       "      <td>79.199997</td>\n",
       "      <td>83.000000</td>\n",
       "    </tr>\n",
       "    <tr>\n",
       "      <th>165</th>\n",
       "      <td>Uganda</td>\n",
       "      <td>80.000000</td>\n",
       "      <td>83.199997</td>\n",
       "    </tr>\n",
       "    <tr>\n",
       "      <th>25</th>\n",
       "      <td>Burundi</td>\n",
       "      <td>83.300003</td>\n",
       "      <td>83.199997</td>\n",
       "    </tr>\n",
       "  </tbody>\n",
       "</table>\n",
       "<p>178 rows × 3 columns</p>\n",
       "</div>"
      ],
      "text/plain": [
       "                country  femaleemployrate  employrate\n",
       "174  West Bank and Gaza         11.300000   32.000000\n",
       "97       Macedonia, FYR         26.799999   34.900002\n",
       "75                 Iraq         12.400000   37.400002\n",
       "81               Jordan         13.000000   38.900002\n",
       "175         Yemen, Rep.         20.299999   39.000000\n",
       "..                  ...               ...         ...\n",
       "24         Burkina Faso         75.800003   81.300003\n",
       "64               Guinea         77.599998   81.500000\n",
       "98           Madagascar         79.199997   83.000000\n",
       "165              Uganda         80.000000   83.199997\n",
       "25              Burundi         83.300003   83.199997\n",
       "\n",
       "[178 rows x 3 columns]"
      ]
     },
     "execution_count": 8,
     "metadata": {},
     "output_type": "execute_result"
    }
   ],
   "source": [
    "#lowest and highest employment rates\n",
    "data.sort_values(\"employrate\") "
   ]
  },
  {
   "cell_type": "code",
   "execution_count": 9,
   "metadata": {},
   "outputs": [
    {
     "data": {
      "text/html": [
       "<div>\n",
       "<style scoped>\n",
       "    .dataframe tbody tr th:only-of-type {\n",
       "        vertical-align: middle;\n",
       "    }\n",
       "\n",
       "    .dataframe tbody tr th {\n",
       "        vertical-align: top;\n",
       "    }\n",
       "\n",
       "    .dataframe thead th {\n",
       "        text-align: right;\n",
       "    }\n",
       "</style>\n",
       "<table border=\"1\" class=\"dataframe\">\n",
       "  <thead>\n",
       "    <tr style=\"text-align: right;\">\n",
       "      <th></th>\n",
       "      <th>country</th>\n",
       "      <th>femaleemployrate</th>\n",
       "      <th>employrate</th>\n",
       "    </tr>\n",
       "  </thead>\n",
       "  <tbody>\n",
       "    <tr>\n",
       "      <th>25</th>\n",
       "      <td>Burundi</td>\n",
       "      <td>83.300003</td>\n",
       "      <td>83.199997</td>\n",
       "    </tr>\n",
       "    <tr>\n",
       "      <th>111</th>\n",
       "      <td>Mozambique</td>\n",
       "      <td>82.199997</td>\n",
       "      <td>77.000000</td>\n",
       "    </tr>\n",
       "    <tr>\n",
       "      <th>136</th>\n",
       "      <td>Rwanda</td>\n",
       "      <td>80.500000</td>\n",
       "      <td>79.800003</td>\n",
       "    </tr>\n",
       "    <tr>\n",
       "      <th>165</th>\n",
       "      <td>Uganda</td>\n",
       "      <td>80.000000</td>\n",
       "      <td>83.199997</td>\n",
       "    </tr>\n",
       "    <tr>\n",
       "      <th>98</th>\n",
       "      <td>Madagascar</td>\n",
       "      <td>79.199997</td>\n",
       "      <td>83.000000</td>\n",
       "    </tr>\n",
       "  </tbody>\n",
       "</table>\n",
       "</div>"
      ],
      "text/plain": [
       "        country  femaleemployrate  employrate\n",
       "25      Burundi         83.300003   83.199997\n",
       "111  Mozambique         82.199997   77.000000\n",
       "136      Rwanda         80.500000   79.800003\n",
       "165      Uganda         80.000000   83.199997\n",
       "98   Madagascar         79.199997   83.000000"
      ]
     },
     "execution_count": 9,
     "metadata": {},
     "output_type": "execute_result"
    }
   ],
   "source": [
    "# filter\n",
    "# equality? as shown by female employment rates?\n",
    "\n",
    "most_equal = data[data[\"femaleemployrate\"] > 75]\n",
    "\n",
    "#sorted by employment rate, descending! I found how to sort by descending myself! from here: https://pandas.pydata.org/pandas-docs/stable/reference/api/pandas.DataFrame.sort_values.html\n",
    "most_equal_sorted = most_equal.sort_values(\"femaleemployrate\", ascending=False) \n",
    "\n",
    "#highest 5, comment out brackets for all in range.\n",
    "most_equal_sorted[0:5] "
   ]
  },
  {
   "cell_type": "code",
   "execution_count": 10,
   "metadata": {},
   "outputs": [
    {
     "data": {
      "text/html": [
       "<div>\n",
       "<style scoped>\n",
       "    .dataframe tbody tr th:only-of-type {\n",
       "        vertical-align: middle;\n",
       "    }\n",
       "\n",
       "    .dataframe tbody tr th {\n",
       "        vertical-align: top;\n",
       "    }\n",
       "\n",
       "    .dataframe thead th {\n",
       "        text-align: right;\n",
       "    }\n",
       "</style>\n",
       "<table border=\"1\" class=\"dataframe\">\n",
       "  <thead>\n",
       "    <tr style=\"text-align: right;\">\n",
       "      <th></th>\n",
       "      <th>country</th>\n",
       "      <th>femaleemployrate</th>\n",
       "      <th>employrate</th>\n",
       "    </tr>\n",
       "  </thead>\n",
       "  <tbody>\n",
       "    <tr>\n",
       "      <th>174</th>\n",
       "      <td>West Bank and Gaza</td>\n",
       "      <td>11.300000</td>\n",
       "      <td>32.000000</td>\n",
       "    </tr>\n",
       "    <tr>\n",
       "      <th>97</th>\n",
       "      <td>Macedonia, FYR</td>\n",
       "      <td>26.799999</td>\n",
       "      <td>34.900002</td>\n",
       "    </tr>\n",
       "    <tr>\n",
       "      <th>75</th>\n",
       "      <td>Iraq</td>\n",
       "      <td>12.400000</td>\n",
       "      <td>37.400002</td>\n",
       "    </tr>\n",
       "    <tr>\n",
       "      <th>81</th>\n",
       "      <td>Jordan</td>\n",
       "      <td>13.000000</td>\n",
       "      <td>38.900002</td>\n",
       "    </tr>\n",
       "    <tr>\n",
       "      <th>175</th>\n",
       "      <td>Yemen, Rep.</td>\n",
       "      <td>20.299999</td>\n",
       "      <td>39.000000</td>\n",
       "    </tr>\n",
       "  </tbody>\n",
       "</table>\n",
       "</div>"
      ],
      "text/plain": [
       "                country  femaleemployrate  employrate\n",
       "174  West Bank and Gaza         11.300000   32.000000\n",
       "97       Macedonia, FYR         26.799999   34.900002\n",
       "75                 Iraq         12.400000   37.400002\n",
       "81               Jordan         13.000000   38.900002\n",
       "175         Yemen, Rep.         20.299999   39.000000"
      ]
     },
     "execution_count": 10,
     "metadata": {},
     "output_type": "execute_result"
    }
   ],
   "source": [
    "# filter\n",
    "# need economic development as shown by low employment rate\n",
    "\n",
    "least_well_off = data[data[\"employrate\"] < 45]\n",
    "\n",
    "#sorted by employment rate\n",
    "least_well_off_sorted =least_well_off.sort_values(\"employrate\") \n",
    "\n",
    "#lowest 5, comment out brackets for all in range.\n",
    "least_well_off_sorted[0:5]\n"
   ]
  },
  {
   "cell_type": "code",
   "execution_count": 11,
   "metadata": {},
   "outputs": [
    {
     "data": {
      "text/plain": [
       "country             Burundi\n",
       "femaleemployrate       83.3\n",
       "employrate             83.2\n",
       "Name: 25, dtype: object"
      ]
     },
     "execution_count": 11,
     "metadata": {},
     "output_type": "execute_result"
    }
   ],
   "source": [
    "# country with highest female employment rate\n",
    "most_equal_sorted.iloc[0]"
   ]
  },
  {
   "cell_type": "code",
   "execution_count": 12,
   "metadata": {},
   "outputs": [
    {
     "data": {
      "text/plain": [
       "country             West Bank and Gaza\n",
       "femaleemployrate                  11.3\n",
       "employrate                          32\n",
       "Name: 174, dtype: object"
      ]
     },
     "execution_count": 12,
     "metadata": {},
     "output_type": "execute_result"
    }
   ],
   "source": [
    "# country with lowest employment rate\n",
    "least_well_off_sorted.iloc[0]"
   ]
  },
  {
   "cell_type": "code",
   "execution_count": 13,
   "metadata": {},
   "outputs": [
    {
     "name": "stdout",
     "output_type": "stream",
     "text": [
      "58.63595508224719 47.549438063876394\n"
     ]
    }
   ],
   "source": [
    "# MEANS!\n",
    "\n",
    "all_employ = np.mean(data[\"employrate\"]) \n",
    "all_fem = np.mean(data[\"femaleemployrate\"])\n",
    "\n",
    "print(all_employ, all_fem)"
   ]
  },
  {
   "cell_type": "code",
   "execution_count": 14,
   "metadata": {},
   "outputs": [
    {
     "data": {
      "text/plain": [
       "Text(32.0, 11.30000019, 'West Bank and Gaza')"
      ]
     },
     "execution_count": 14,
     "metadata": {},
     "output_type": "execute_result"
    },
    {
     "data": {
      "image/png": "[encoded data removed]",
      "text/plain": [
       "<Figure size 432x288 with 1 Axes>"
      ]
     },
     "metadata": {
      "needs_background": "light"
     },
     "output_type": "display_data"
    }
   ],
   "source": [
    "# x-axis and y-axis labels\n",
    "plt.xlabel(\"emp\")\n",
    "plt.ylabel(\"fem\")\n",
    "\n",
    "# plot a scatter graph\n",
    "plt.scatter(emp, fem)\n",
    "\n",
    "# where on the graph is the most equal country\n",
    "plt.text(most_equal_sorted.iloc[0][\"employrate\"], \n",
    "         most_equal_sorted.iloc[0][\"femaleemployrate\"],\n",
    "         most_equal_sorted.iloc[0][\"country\"])\n",
    "\n",
    "# where on the graph is the least well-off country\n",
    "plt.text(least_well_off_sorted.iloc[0][\"employrate\"], \n",
    "         least_well_off_sorted.iloc[0][\"femaleemployrate\"],\n",
    "         least_well_off_sorted.iloc[0][\"country\"])\n",
    "\n",
    "# both countires were categorized according to different vairables and rules, so do not compare them. \n",
    "# Burundi is categorized as highest *female* employment rate and West Bank and Gaza as lowest *general* employment rate."
   ]
  },
  {
   "cell_type": "code",
   "execution_count": 15,
   "metadata": {},
   "outputs": [
    {
     "name": "stdout",
     "output_type": "stream",
     "text": [
      "West Bank and Gaza\n",
      "Macedonia, FYR\n",
      "Iraq\n",
      "Jordan\n",
      "Yemen, Rep.\n",
      "Armenia\n",
      "South Africa\n",
      "Bosnia and Herzegovina\n",
      "Tunisia\n",
      "Namibia\n",
      "Egypt\n",
      "Puerto Rico\n",
      "Martinique\n",
      "Turkey\n",
      "Guadeloupe\n",
      "Reunion\n",
      "Moldova\n",
      "Suriname\n",
      "Syria\n"
     ]
    }
   ],
   "source": [
    "# just names of countries where employment rate is less than 45%\n",
    "for k,row in least_well_off_sorted.iterrows():\n",
    "    print(row[\"country\"])"
   ]
  },
  {
   "cell_type": "code",
   "execution_count": 16,
   "metadata": {},
   "outputs": [
    {
     "name": "stdout",
     "output_type": "stream",
     "text": [
      "Burundi\n",
      "Mozambique\n",
      "Rwanda\n",
      "Uganda\n",
      "Madagascar\n",
      "Laos\n",
      "Guinea\n",
      "Tanzania\n",
      "Burkina Faso\n"
     ]
    }
   ],
   "source": [
    "# just names of countries where female employment rate is higher than 75%\n",
    "for k,row in most_equal_sorted.iterrows():\n",
    "    print(row[\"country\"])"
   ]
  },
  {
   "cell_type": "code",
   "execution_count": 17,
   "metadata": {},
   "outputs": [
    {
     "data": {
      "image/png": "[encoded data removed]",
      "text/plain": [
       "<Figure size 432x288 with 1 Axes>"
      ]
     },
     "metadata": {
      "needs_background": "light"
     },
     "output_type": "display_data"
    }
   ],
   "source": [
    "# country labels, countries with lowest employment rates\n",
    "\n",
    "plt.scatter(least_well_off[\"employrate\"], least_well_off[\"femaleemployrate\"])\n",
    "\n",
    "for k,row in least_well_off.iterrows():\n",
    "    plt.text(row[\"employrate\"],\n",
    "            row[\"femaleemployrate\"],\n",
    "            row[\"country\"])\n",
    "    \n"
   ]
  },
  {
   "cell_type": "code",
   "execution_count": 37,
   "metadata": {},
   "outputs": [
    {
     "data": {
      "image/png": "[encoded data removed]",
      "text/plain": [
       "<Figure size 432x288 with 1 Axes>"
      ]
     },
     "metadata": {
      "needs_background": "light"
     },
     "output_type": "display_data"
    }
   ],
   "source": [
    "# Above countries in comparison to worldwide\n",
    "\n",
    "plt.scatter(emp, fem)\n",
    "\n",
    "for k,row in least_well_off.iterrows():\n",
    "    plt.text(row[\"employrate\"],\n",
    "            row[\"femaleemployrate\"],\n",
    "            row[\"country\"])"
   ]
  },
  {
   "cell_type": "code",
   "execution_count": 40,
   "metadata": {},
   "outputs": [
    {
     "data": {
      "image/png": "[encoded data removed]",
      "text/plain": [
       "<Figure size 432x288 with 1 Axes>"
      ]
     },
     "metadata": {
      "needs_background": "light"
     },
     "output_type": "display_data"
    }
   ],
   "source": [
    "# country labels, countries with highest female employment rates\n",
    "\n",
    "plt.scatter(most_equal[\"employrate\"], most_equal[\"femaleemployrate\"])\n",
    "\n",
    "for k,row in most_equal.iterrows():\n",
    "    plt.text(row[\"employrate\"],\n",
    "            row[\"femaleemployrate\"],\n",
    "            row[\"country\"])\n",
    "    "
   ]
  },
  {
   "cell_type": "code",
   "execution_count": 39,
   "metadata": {},
   "outputs": [
    {
     "data": {
      "image/png": "[encoded data removed]",
      "text/plain": [
       "<Figure size 432x288 with 1 Axes>"
      ]
     },
     "metadata": {
      "needs_background": "light"
     },
     "output_type": "display_data"
    }
   ],
   "source": [
    "# Above countries in comparison to worldwide\n",
    "\n",
    "plt.scatter(emp, fem)\n",
    "\n",
    "for k,row in most_equal.iterrows():\n",
    "    plt.text(row[\"employrate\"],\n",
    "            row[\"femaleemployrate\"],\n",
    "            row[\"country\"])\n",
    "    "
   ]
  },
  {
   "cell_type": "code",
   "execution_count": 27,
   "metadata": {},
   "outputs": [
    {
     "name": "stdout",
     "output_type": "stream",
     "text": [
      "[[55.70000076 25.60000038]\n",
      " [51.40000153 42.09999847]\n",
      " [50.5        31.70000076]\n",
      " [75.69999695 69.40000153]\n",
      " [58.40000153 45.90000153]\n",
      " [40.09999847 34.20000076]\n",
      " [61.5        54.59999847]\n",
      " [57.09999847 49.70000076]\n",
      " [60.90000153 56.20000076]\n",
      " [66.59999847 60.70000076]\n",
      " [60.40000153 30.20000076]\n",
      " [68.09999847 53.59999847]\n",
      " [66.90000153 60.29999924]\n",
      " [53.40000153 48.59999847]\n",
      " [48.59999847 41.70000076]\n",
      " [56.79999924 38.79999924]\n",
      " [71.59999847 58.20000076]\n",
      " [58.40000153 39.90000153]\n",
      " [70.40000153 61.59999847]\n",
      " [41.20000076 34.90000153]\n",
      " [46.         38.70000076]\n",
      " [64.5        53.29999924]\n",
      " [63.79999924 55.5       ]\n",
      " [47.29999924 42.09999847]\n",
      " [81.30000305 75.80000305]\n",
      " [83.19999695 83.30000305]\n",
      " [78.90000153 73.40000153]\n",
      " [59.09999847 49.        ]\n",
      " [63.5        58.90000153]\n",
      " [55.90000153 43.59999847]\n",
      " [71.30000305 62.90000153]\n",
      " [68.90000153 66.30000305]\n",
      " [51.         35.5       ]\n",
      " [72.80000305 68.90000153]\n",
      " [63.20000076 54.90000153]\n",
      " [68.         59.29999924]\n",
      " [66.19999695 50.40000153]\n",
      " [64.19999695 52.29999924]\n",
      " [58.59999847 40.09999847]\n",
      " [59.90000153 38.09999847]\n",
      " [47.09999847 39.40000153]\n",
      " [56.         43.70000076]\n",
      " [59.09999847 51.29999924]\n",
      " [56.         47.59999847]\n",
      " [63.09999847 58.09999847]\n",
      " [52.70000076 40.5       ]\n",
      " [59.70000076 45.5       ]\n",
      " [42.40000153 18.20000076]\n",
      " [58.20000076 44.79999924]\n",
      " [61.70000076 39.59999847]\n",
      " [64.90000153 51.70000076]\n",
      " [56.5        52.09999847]\n",
      " [80.69999695 73.        ]\n",
      " [56.40000153 36.79999924]\n",
      " [57.20000076 53.40000153]\n",
      " [51.20000076 45.59999847]\n",
      " [59.         52.59999847]\n",
      " [71.69999695 65.69999695]\n",
      " [55.59999847 48.5       ]\n",
      " [53.5        46.79999924]\n",
      " [65.09999847 64.09999847]\n",
      " [49.59999847 37.79999924]\n",
      " [43.09999847 38.29999924]\n",
      " [62.70000076 44.        ]\n",
      " [81.5        77.59999847]\n",
      " [65.90000153 49.90000153]\n",
      " [58.90000153 41.79999924]\n",
      " [55.90000153 35.40000153]\n",
      " [56.29999924 34.20000076]\n",
      " [59.         51.59999847]\n",
      " [47.29999924 40.29999924]\n",
      " [73.59999847 69.59999847]\n",
      " [55.40000153 32.29999924]\n",
      " [61.5        44.09999847]\n",
      " [47.79999924 26.89999962]\n",
      " [37.40000153 12.39999962]\n",
      " [59.90000153 51.        ]\n",
      " [51.29999924 46.40000153]\n",
      " [46.40000153 35.79999924]\n",
      " [58.20000076 47.5       ]\n",
      " [57.29999924 46.20000076]\n",
      " [38.90000153 13.        ]\n",
      " [63.70000076 58.20000076]\n",
      " [73.19999695 66.59999847]\n",
      " [64.59999847 56.        ]\n",
      " [58.90000153 48.        ]\n",
      " [65.69999695 42.        ]\n",
      " [58.90000153 48.79999924]\n",
      " [78.19999695 78.09999847]\n",
      " [56.79999924 50.70000076]\n",
      " [46.         22.29999924]\n",
      " [56.29999924 49.79999924]\n",
      " [66.         53.20000076]\n",
      " [48.59999847 23.20000076]\n",
      " [53.09999847 48.79999924]\n",
      " [53.5        45.90000153]\n",
      " [63.59999847 57.5       ]\n",
      " [34.90000153 26.79999924]\n",
      " [83.         79.19999695]\n",
      " [71.80000305 69.        ]\n",
      " [60.5        43.09999847]\n",
      " [56.90000153 42.09999847]\n",
      " [45.70000076 34.40000153]\n",
      " [46.79999924 30.10000038]\n",
      " [42.5        38.20000076]\n",
      " [46.90000153 45.29999924]\n",
      " [54.5        36.29999924]\n",
      " [57.90000153 39.59999847]\n",
      " [44.29999924 43.59999847]\n",
      " [52.09999847 50.90000153]\n",
      " [46.20000076 22.20000076]\n",
      " [77.         82.19999695]\n",
      " [74.69999695 66.5       ]\n",
      " [42.         37.29999924]\n",
      " [61.79999924 54.59999847]\n",
      " [61.29999924 54.29999924]\n",
      " [53.5        47.09999847]\n",
      " [65.         58.29999924]\n",
      " [58.79999924 36.        ]\n",
      " [60.40000153 38.        ]\n",
      " [50.90000153 36.5       ]\n",
      " [65.         60.90000153]\n",
      " [50.70000076 22.60000038]\n",
      " [51.         19.        ]\n",
      " [59.79999924 43.40000153]\n",
      " [70.40000153 68.90000153]\n",
      " [73.09999847 65.30000305]\n",
      " [68.30000305 59.79999924]\n",
      " [61.         46.79999924]\n",
      " [48.70000076 42.09999847]\n",
      " [57.59999847 50.59999847]\n",
      " [42.40000153 34.59999847]\n",
      " [76.         39.59999847]\n",
      " [44.20000076 37.90000153]\n",
      " [49.5        43.79999924]\n",
      " [58.79999924 53.79999924]\n",
      " [79.80000305 80.5       ]\n",
      " [51.20000076 17.70000076]\n",
      " [65.59999847 56.90000153]\n",
      " [48.70000076 41.09999847]\n",
      " [63.79999924 63.40000153]\n",
      " [62.40000153 51.29999924]\n",
      " [53.40000153 45.29999924]\n",
      " [55.90000153 49.40000153]\n",
      " [65.         51.29999924]\n",
      " [66.         50.70000076]\n",
      " [41.09999847 34.29999924]\n",
      " [52.5        41.70000076]\n",
      " [55.09999847 39.20000076]\n",
      " [47.29999924 27.89999962]\n",
      " [44.70000076 30.39999962]\n",
      " [50.90000153 47.09999847]\n",
      " [60.70000076 56.70000076]\n",
      " [64.30000305 57.        ]\n",
      " [44.79999924 16.70000076]\n",
      " [54.5        47.09999847]\n",
      " [54.59999847 50.09999847]\n",
      " [78.19999695 76.09999847]\n",
      " [72.         65.        ]\n",
      " [67.30000305 54.70000076]\n",
      " [63.90000153 48.40000153]\n",
      " [61.5        50.5       ]\n",
      " [41.59999847 21.39999962]\n",
      " [42.79999924 21.89999962]\n",
      " [58.5        53.90000153]\n",
      " [83.19999695 80.        ]\n",
      " [54.40000153 49.40000153]\n",
      " [75.19999695 37.29999924]\n",
      " [59.29999924 53.09999847]\n",
      " [62.29999924 56.        ]\n",
      " [57.5        46.        ]\n",
      " [57.5        52.59999847]\n",
      " [59.90000153 45.79999924]\n",
      " [71.         67.59999847]\n",
      " [32.         11.30000019]\n",
      " [39.         20.29999924]\n",
      " [61.         53.5       ]\n",
      " [66.80000305 58.09999847]]\n"
     ]
    }
   ],
   "source": [
    "# import KMeans from sklearn\n",
    "from sklearn.cluster import KMeans\n",
    "\n",
    "# covert 2 1D lists into a 2D one which will be used for KMeans\n",
    "emp_fem = np.column_stack ((emp, fem))\n",
    "print(emp_fem)"
   ]
  },
  {
   "cell_type": "code",
   "execution_count": 33,
   "metadata": {},
   "outputs": [
    {
     "data": {
      "text/plain": [
       "array([[39.31111145, 17.99999989],\n",
       "       [64.65000004, 55.84166675],\n",
       "       [49.49411774, 42.69999942],\n",
       "       [80.45454476, 78.10909063],\n",
       "       [57.08000002, 48.96249971],\n",
       "       [65.2222218 , 42.38888846],\n",
       "       [56.80555619, 37.26666641],\n",
       "       [71.71333313, 66.49333343],\n",
       "       [43.28333346, 35.75000016],\n",
       "       [49.25454538, 24.47272751]])"
      ]
     },
     "execution_count": 33,
     "metadata": {},
     "output_type": "execute_result"
    }
   ],
   "source": [
    "#KMeans formula!!!\n",
    "\n",
    "km_res = KMeans(n_clusters=10).fit(emp_fem) # how many clusters and which 2D array\n",
    "\n",
    "km_res.cluster_centers_ #what are the cluster coordinates?"
   ]
  },
  {
   "cell_type": "code",
   "execution_count": 36,
   "metadata": {},
   "outputs": [
    {
     "data": {
      "text/plain": [
       "<matplotlib.collections.PathCollection at 0x7f1219ffdba8>"
      ]
     },
     "execution_count": 36,
     "metadata": {},
     "output_type": "execute_result"
    },
    {
     "data": {
      "image/png": "[encoded data removed]",
      "text/plain": [
       "<Figure size 432x288 with 1 Axes>"
      ]
     },
     "metadata": {
      "needs_background": "light"
     },
     "output_type": "display_data"
    }
   ],
   "source": [
    "clusters = km_res.cluster_centers_\n",
    "\n",
    "plt.scatter(emp, fem)\n",
    "plt.scatter(clusters[:,0], clusters[:,1], s=100)"
   ]
  },
  {
   "cell_type": "code",
   "execution_count": 46,
   "metadata": {},
   "outputs": [
    {
     "data": {
      "text/plain": [
       "<matplotlib.collections.PathCollection at 0x7f121a63abe0>"
      ]
     },
     "execution_count": 46,
     "metadata": {},
     "output_type": "execute_result"
    },
    {
     "data": {
      "image/png": "[encoded data removed]",
      "text/plain": [
       "<Figure size 432x288 with 1 Axes>"
      ]
     },
     "metadata": {
      "needs_background": "light"
     },
     "output_type": "display_data"
    }
   ],
   "source": [
    "clusters = km_res.cluster_centers_ #clusters label.\n",
    "\n",
    "# x-axis and y-axis labels\n",
    "plt.xlabel(\"employment rate\")\n",
    "plt.ylabel(\"female employment\")\n",
    "\n",
    "# plot a scatter graph\n",
    "plt.scatter(emp, fem)\n",
    "\n",
    "# where on the graph is the most equal country\n",
    "plt.text(most_equal_sorted.iloc[0][\"employrate\"], \n",
    "         most_equal_sorted.iloc[0][\"femaleemployrate\"],\n",
    "         most_equal_sorted.iloc[0][\"country\"])\n",
    "\n",
    "# where on the graph is the least well-off country\n",
    "plt.text(least_well_off_sorted.iloc[0][\"employrate\"], \n",
    "         least_well_off_sorted.iloc[0][\"femaleemployrate\"],\n",
    "         least_well_off_sorted.iloc[0][\"country\"])\n",
    "\n",
    "# both countires were categorized according to different vairables and rules, so do not compare them. \n",
    "# Burundi is categorized as highest *female* employment rate and West Bank and Gaza as lowest *general* employment rate.\n",
    "    \n",
    "plt.scatter(clusters[:,0], clusters[:,1], s=100)"
   ]
  },
  {
   "cell_type": "code",
   "execution_count": null,
   "metadata": {},
   "outputs": [],
   "source": []
  }
 ],
 "metadata": {
  "kernelspec": {
   "display_name": "Python 3",
   "language": "python",
   "name": "python3"
  },
  "language_info": {
   "codemirror_mode": {
    "name": "ipython",
    "version": 3
   },
   "file_extension": ".py",
   "mimetype": "text/x-python",
   "name": "python",
   "nbconvert_exporter": "python",
   "pygments_lexer": "ipython3",
   "version": "3.6.11"
  }
 },
 "nbformat": 4,
 "nbformat_minor": 4
}
